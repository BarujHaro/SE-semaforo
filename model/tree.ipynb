{
 "cells": [
  {
   "cell_type": "code",
   "execution_count": null,
   "id": "7af56262",
   "metadata": {},
   "outputs": [],
   "source": [
    "#Importaciones de librerias\n",
    "import numpy as np \n",
    "import seaborn as sns\n",
    "import matplotlib.pyplot as plt\n",
    "import pandas as pd\n",
    "from sklearn.model_selection import train_test_split\n",
    "from sklearn.tree import DecisionTreeClassifier #Algoritmo del árbol de decisión\n",
    "from sklearn.metrics import f1_score\n",
    "from sklearn import tree\n",
    "from imblearn.over_sampling import SMOTE\n",
    "from sklearn.metrics import classification_report, confusion_matrix, roc_auc_score\n",
    "from sklearn.metrics import accuracy_score\n"
   ]
  },
  {
   "cell_type": "code",
   "execution_count": null,
   "id": "700fe69e",
   "metadata": {},
   "outputs": [],
   "source": [
    "# Carga del dataset\n",
    "# Lee CSV, tratando valores missing\n",
    "df=pd.read_csv('model/company_data.csv', na_values=['?', 'None', 'nan'])\n",
    "df.head(3)"
   ]
  },
  {
   "cell_type": "code",
   "execution_count": null,
   "id": "ce187398",
   "metadata": {},
   "outputs": [],
   "source": [
    "df.isnull().sum()# Cuenta valores nulos por columna (pero no se usa el resultado)\n",
    "df = df.replace([np.inf, -np.inf], np.nan) # Reemplaza infinitos por NaN\n",
    "umbral = 0.5 * len(df) \n",
    "df = df.dropna(axis=1, thresh=umbral) # Elimina columnas con más del 50% de valores missing\n",
    "df = df.fillna(df.median()) # Rellena valores missing con la mediana de cada columna"
   ]
  },
  {
   "cell_type": "code",
   "execution_count": null,
   "id": "4259988f",
   "metadata": {},
   "outputs": [],
   "source": [
    "print(f\"Distribución original de clases:\")\n",
    "print(df['Y'].value_counts())\n",
    "print(f\"Porcentaje de Y: {df['Y'].mean()*100:.2f}%\")"
   ]
  },
  {
   "cell_type": "code",
   "execution_count": null,
   "id": "2880089e",
   "metadata": {},
   "outputs": [],
   "source": [
    "correlation_matrix = df.corr()\n",
    "plt.figure(figsize=(20, 20))  \n",
    "sns.heatmap(correlation_matrix, annot=True, fmt=\".2f\", cmap='coolwarm', center=0)\n",
    "plt.title(\"Matriz de Correlación\")\n",
    "plt.show()\n",
    "\n",
    "\n",
    "print(\"\\nMatriz de Correlación Numérica:\")\n",
    "print(correlation_matrix)"
   ]
  },
  {
   "cell_type": "code",
   "execution_count": null,
   "id": "61b5e705",
   "metadata": {},
   "outputs": [],
   "source": [
    " # --- DEFINICIÓN DE VARIABLES PREDICTORAS (features) ---\n",
    "\n",
    "#X1: net profit / total assets = utilidad_neta / total_activos\n",
    "    #X2: total liabilities / total assets = total_pasivos / total_activos\n",
    "    #X3: working capital / total assets = (activo_corriente - pasivo_corriente) / total_activos\n",
    "    #X4: current assets / short-term liabilities = activo_corriente / pasivo_corriente\n",
    "    #X6: retained earnings / total assets = utilidad_neta / total_activos\n",
    "    #X8: book value of equity / total liabilities = patrimonio / total_pasivos\n",
    "    #X9: sales / total assets = ventas_totales / total_activos\n",
    "    #X10: equity / total assets = patrimonio / total_activos\n",
    "    #X17: total assets / total liabilities = total_activos / total_pasivos\n",
    "    #X18: gross profit / total assets = (ventas_totales - costo_ventas) / total_activos\n",
    "    #X19: gross profit / sales   = (ventas_totales - costo_ventas) / ventas_totales\n",
    "    #X23: net profit / sales  = utilidad_neta / ventas_totales\n",
    "    #X44: (receivables * 365) / sales   =  (cuentas_por_cobrar * 365) / ventas_totales\n",
    "    #X50: current assets / total liabilities = activo_corriente / total_pasivos\n",
    "    #X51: short-term liabilities / total assets = pasivo_corriente / total_activos\n",
    "    #X60: sales / inventory = ventas_totales / inventario_final\n",
    "    #X61: sales / receivables = ventas_totales / cuentas_por_cobra\n",
    "variablex = df[[\"X1\", \"X2\", \"X3\", \"X4\", \"X6\", \"X8\", \"X9\", \"X10\", \"X17\", \"X18\", \"X19\", \"X23\",  \"X44\", \"X50\", \"X51\", \"X60\", \"X61\"]].values\n",
    "variabley = df[[\"Y\"]].values"
   ]
  },
  {
   "cell_type": "code",
   "execution_count": null,
   "id": "a4752578",
   "metadata": {},
   "outputs": [],
   "source": [
    "    # --- DIVISIÓN DE DATOS ---\n",
    "    # 67% para entrenamiento, 33% para prueba\n",
    "    # stratify=variabley asegura que la proporción de clases se mantenga en ambos conjuntos\n",
    "X_train, X_test, y_train, y_test = train_test_split(variablex, variabley, test_size = 0.33, random_state = 42, stratify=variabley)"
   ]
  },
  {
   "cell_type": "code",
   "execution_count": null,
   "id": "b2fe1435",
   "metadata": {},
   "outputs": [],
   "source": [
    "  # --- BALANCEO DE CLASES CON SMOTE ---\n",
    "    # SMOTE crea muestras sintéticas de la clase minoritaria para equilibrar el dataset\n",
    "   \n",
    "smote = SMOTE(random_state=42)\n",
    "X_resampled, y_resampled = smote.fit_resample(X_train, y_train)\n"
   ]
  },
  {
   "cell_type": "code",
   "execution_count": null,
   "id": "78bad7f2",
   "metadata": {},
   "outputs": [],
   "source": [
    "# --- CREACIÓN Y ENTRENAMIENTO DEL MODELO ---\n",
    "model = DecisionTreeClassifier(criterion=\"log_loss\", random_state=42, max_depth=10, class_weight='balanced')\n",
    "model.fit(X_resampled, y_resampled)"
   ]
  },
  {
   "cell_type": "code",
   "execution_count": null,
   "id": "9088277d",
   "metadata": {},
   "outputs": [],
   "source": [
    "# --- PREDICCIÓN Y EVALUACIÓN ---\n",
    "y_pred = model.predict(X_test)\n",
    "#y_prob = model.predict_proba(X_test)[:, 1]\n",
    "y_prob = model.predict_proba(X_test)[:, 1] # Probabilidades para la clase positiva (índice 1)"
   ]
  },
  {
   "cell_type": "code",
   "execution_count": null,
   "id": "6aa6f3ef",
   "metadata": {},
   "outputs": [],
   "source": [
    "\n",
    "    # --- REPORTE DE RESULTADOS ---\n",
    "print(\"===DECISION TREE===\")\n",
    "print(\"Matriz de confusión:\\n\", confusion_matrix(y_test, y_pred))\n",
    "    "
   ]
  },
  {
   "cell_type": "code",
   "execution_count": null,
   "id": "3205fa9f",
   "metadata": {},
   "outputs": [],
   "source": [
    "porcent = model.score(X_test, y_test)\n",
    "print(f\"El modelo obtuvo {porcent*100} % de precision para clasificar\")\n",
    "\n",
    "f1 = f1_score(y_test, y_pred)\n",
    "print(f\"El modelo obtuvo un indice F1 Score de: {f1}\")\n",
    "print(f\"ROC AUC Score: {roc_auc_score(y_test, y_prob):.4f}\")\n",
    "print('Model accuracy score with criterion gini index: {0:0.4f}'. format(accuracy_score(y_test, y_pred)))\n",
    "    "
   ]
  },
  {
   "cell_type": "code",
   "execution_count": null,
   "id": "4428f248",
   "metadata": {},
   "outputs": [],
   "source": [
    "# Reporte completo con varias métricas\n",
    "print(classification_report(y_test, y_pred))"
   ]
  }
 ],
 "metadata": {
  "kernelspec": {
   "display_name": "Python 3",
   "language": "python",
   "name": "python3"
  },
  "language_info": {
   "name": "python",
   "version": "3.11.4"
  }
 },
 "nbformat": 4,
 "nbformat_minor": 5
}
